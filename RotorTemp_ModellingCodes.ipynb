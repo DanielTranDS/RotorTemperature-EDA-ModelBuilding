{
 "cells": [
  {
   "cell_type": "markdown",
   "metadata": {},
   "source": [
    "# EDA, Feature Engineering and Modelling for Rotor Temperatures\n",
    "\n",
    "\n",
    "In this project, I will demonstrate various techniques including data visualization, data exploration, machine learning and machine learning optimizations.\n",
    "\n",
    "\n",
    "## Table of Content\n",
    "\n",
    "1. [Explorary Data Analysis](#1)\n",
    "2. [Feature Engineering](#2)\n",
    "3. [Model Development](#3)\n",
    "4. [Results and Discussion](#4)"
   ]
  },
  {
   "cell_type": "code",
   "execution_count": 7,
   "metadata": {},
   "outputs": [],
   "source": [
    "#Load libraries\n",
    "library(psych)\n",
    "library(ggplot2)\n",
    "library(reshape2)\n",
    "library(EnvStats)\n",
    "library(tidyverse)\n",
    "library(GGally)\n",
    "library(dplyr)\n",
    "library(MASS)\n",
    "library(leaps)\n",
    "library(lattice)\n",
    "library(glmnet)\n",
    "library(stats)\n",
    "library(fastDummies)\n",
    "library(car)\n",
    "library(caret)\n",
    "library(randomForest)"
   ]
  },
  {
   "cell_type": "markdown",
   "metadata": {},
   "source": [
    "## 1. Exploratory Data Analysis <a class=\"anchor\" id=\"1\"></a>\n",
    "\n",
    "In this section of the project, I will explore the dataset, to better understand the attributes and the domain knowledge behind these attributes."
   ]
  },
  {
   "cell_type": "code",
   "execution_count": 11,
   "metadata": {},
   "outputs": [
    {
     "data": {
      "text/html": [
       "<table>\n",
       "<thead><tr><th scope=col>ambient</th><th scope=col>coolant</th><th scope=col>u_d</th><th scope=col>u_q</th><th scope=col>motor_speed</th><th scope=col>torque</th><th scope=col>i_d</th><th scope=col>i_q</th><th scope=col>pm</th><th scope=col>profile_id</th></tr></thead>\n",
       "<tbody>\n",
       "\t<tr><td> 0.1176819 </td><td>-1.040829  </td><td>-1.0267303 </td><td> 0.9250645 </td><td> 1.2124813 </td><td> 0.3586899 </td><td>-0.8343090 </td><td> 0.3229330 </td><td>-0.08831267</td><td>4          </td></tr>\n",
       "\t<tr><td>-0.5547717 </td><td>-1.087189  </td><td>-1.2258921 </td><td> 0.5125759 </td><td> 2.0241232 </td><td> 0.2841797 </td><td>-1.3638294 </td><td> 0.2340145 </td><td> 0.71040170</td><td>4          </td></tr>\n",
       "\t<tr><td>-0.7722329 </td><td>-1.063652  </td><td> 0.2988575 </td><td> 0.9562448 </td><td>-0.1402458 </td><td>-0.2591392 </td><td> 1.0291220 </td><td>-0.2457111 </td><td>-1.59260400</td><td>4          </td></tr>\n",
       "\t<tr><td> 0.2199584 </td><td>-1.083475  </td><td>-1.0261079 </td><td> 0.9278145 </td><td> 1.2124836 </td><td> 0.3574240 </td><td>-0.8381095 </td><td> 0.3228101 </td><td>-0.14167030</td><td>4          </td></tr>\n",
       "\t<tr><td> 0.4015749 </td><td>-1.078981  </td><td> 0.3155328 </td><td>-0.7094008 </td><td>-0.9518901 </td><td>-0.2562895 </td><td> 1.0291730 </td><td>-0.2457109 </td><td>-1.96488810</td><td>4          </td></tr>\n",
       "\t<tr><td>-0.7697667 </td><td>-1.089577  </td><td> 0.2999456 </td><td> 0.9589649 </td><td>-0.1402460 </td><td>-0.2592790 </td><td> 1.0291333 </td><td>-0.2457186 </td><td>-1.77564350</td><td>4          </td></tr>\n",
       "</tbody>\n",
       "</table>\n"
      ],
      "text/latex": [
       "\\begin{tabular}{r|llllllllll}\n",
       " ambient & coolant & u\\_d & u\\_q & motor\\_speed & torque & i\\_d & i\\_q & pm & profile\\_id\\\\\n",
       "\\hline\n",
       "\t  0.1176819  & -1.040829   & -1.0267303  &  0.9250645  &  1.2124813  &  0.3586899  & -0.8343090  &  0.3229330  & -0.08831267 & 4          \\\\\n",
       "\t -0.5547717  & -1.087189   & -1.2258921  &  0.5125759  &  2.0241232  &  0.2841797  & -1.3638294  &  0.2340145  &  0.71040170 & 4          \\\\\n",
       "\t -0.7722329  & -1.063652   &  0.2988575  &  0.9562448  & -0.1402458  & -0.2591392  &  1.0291220  & -0.2457111  & -1.59260400 & 4          \\\\\n",
       "\t  0.2199584  & -1.083475   & -1.0261079  &  0.9278145  &  1.2124836  &  0.3574240  & -0.8381095  &  0.3228101  & -0.14167030 & 4          \\\\\n",
       "\t  0.4015749  & -1.078981   &  0.3155328  & -0.7094008  & -0.9518901  & -0.2562895  &  1.0291730  & -0.2457109  & -1.96488810 & 4          \\\\\n",
       "\t -0.7697667  & -1.089577   &  0.2999456  &  0.9589649  & -0.1402460  & -0.2592790  &  1.0291333  & -0.2457186  & -1.77564350 & 4          \\\\\n",
       "\\end{tabular}\n"
      ],
      "text/markdown": [
       "\n",
       "| ambient | coolant | u_d | u_q | motor_speed | torque | i_d | i_q | pm | profile_id |\n",
       "|---|---|---|---|---|---|---|---|---|---|\n",
       "|  0.1176819  | -1.040829   | -1.0267303  |  0.9250645  |  1.2124813  |  0.3586899  | -0.8343090  |  0.3229330  | -0.08831267 | 4           |\n",
       "| -0.5547717  | -1.087189   | -1.2258921  |  0.5125759  |  2.0241232  |  0.2841797  | -1.3638294  |  0.2340145  |  0.71040170 | 4           |\n",
       "| -0.7722329  | -1.063652   |  0.2988575  |  0.9562448  | -0.1402458  | -0.2591392  |  1.0291220  | -0.2457111  | -1.59260400 | 4           |\n",
       "|  0.2199584  | -1.083475   | -1.0261079  |  0.9278145  |  1.2124836  |  0.3574240  | -0.8381095  |  0.3228101  | -0.14167030 | 4           |\n",
       "|  0.4015749  | -1.078981   |  0.3155328  | -0.7094008  | -0.9518901  | -0.2562895  |  1.0291730  | -0.2457109  | -1.96488810 | 4           |\n",
       "| -0.7697667  | -1.089577   |  0.2999456  |  0.9589649  | -0.1402460  | -0.2592790  |  1.0291333  | -0.2457186  | -1.77564350 | 4           |\n",
       "\n"
      ],
      "text/plain": [
       "  ambient    coolant   u_d        u_q        motor_speed torque     i_d       \n",
       "1  0.1176819 -1.040829 -1.0267303  0.9250645  1.2124813   0.3586899 -0.8343090\n",
       "2 -0.5547717 -1.087189 -1.2258921  0.5125759  2.0241232   0.2841797 -1.3638294\n",
       "3 -0.7722329 -1.063652  0.2988575  0.9562448 -0.1402458  -0.2591392  1.0291220\n",
       "4  0.2199584 -1.083475 -1.0261079  0.9278145  1.2124836   0.3574240 -0.8381095\n",
       "5  0.4015749 -1.078981  0.3155328 -0.7094008 -0.9518901  -0.2562895  1.0291730\n",
       "6 -0.7697667 -1.089577  0.2999456  0.9589649 -0.1402460  -0.2592790  1.0291333\n",
       "  i_q        pm          profile_id\n",
       "1  0.3229330 -0.08831267 4         \n",
       "2  0.2340145  0.71040170 4         \n",
       "3 -0.2457111 -1.59260400 4         \n",
       "4  0.3228101 -0.14167030 4         \n",
       "5 -0.2457109 -1.96488810 4         \n",
       "6 -0.2457186 -1.77564350 4         "
      ]
     },
     "metadata": {},
     "output_type": "display_data"
    }
   ],
   "source": [
    "df<-read.csv('pmsm_data.csv',header=TRUE)\n",
    "\n",
    "#Take a look at the first few rows of df\n",
    "head(df)"
   ]
  },
  {
   "cell_type": "code",
   "execution_count": null,
   "metadata": {},
   "outputs": [],
   "source": []
  },
  {
   "cell_type": "code",
   "execution_count": null,
   "metadata": {},
   "outputs": [],
   "source": []
  },
  {
   "cell_type": "code",
   "execution_count": null,
   "metadata": {},
   "outputs": [],
   "source": []
  },
  {
   "cell_type": "code",
   "execution_count": null,
   "metadata": {},
   "outputs": [],
   "source": []
  },
  {
   "cell_type": "code",
   "execution_count": null,
   "metadata": {},
   "outputs": [],
   "source": []
  },
  {
   "cell_type": "markdown",
   "metadata": {},
   "source": [
    "## 2. Feature Engineering <a class=\"anchor\" id=\"2\"></a>"
   ]
  },
  {
   "cell_type": "code",
   "execution_count": null,
   "metadata": {},
   "outputs": [],
   "source": []
  },
  {
   "cell_type": "code",
   "execution_count": null,
   "metadata": {},
   "outputs": [],
   "source": []
  },
  {
   "cell_type": "code",
   "execution_count": null,
   "metadata": {},
   "outputs": [],
   "source": []
  },
  {
   "cell_type": "code",
   "execution_count": null,
   "metadata": {},
   "outputs": [],
   "source": []
  },
  {
   "cell_type": "code",
   "execution_count": null,
   "metadata": {},
   "outputs": [],
   "source": []
  },
  {
   "cell_type": "code",
   "execution_count": null,
   "metadata": {},
   "outputs": [],
   "source": []
  },
  {
   "cell_type": "code",
   "execution_count": null,
   "metadata": {},
   "outputs": [],
   "source": []
  },
  {
   "cell_type": "markdown",
   "metadata": {},
   "source": [
    "## 3. Model Development <a class=\"anchor\" id=\"3\"></a>"
   ]
  },
  {
   "cell_type": "code",
   "execution_count": null,
   "metadata": {},
   "outputs": [],
   "source": []
  },
  {
   "cell_type": "code",
   "execution_count": null,
   "metadata": {},
   "outputs": [],
   "source": []
  },
  {
   "cell_type": "code",
   "execution_count": null,
   "metadata": {},
   "outputs": [],
   "source": []
  },
  {
   "cell_type": "code",
   "execution_count": null,
   "metadata": {},
   "outputs": [],
   "source": []
  },
  {
   "cell_type": "code",
   "execution_count": null,
   "metadata": {},
   "outputs": [],
   "source": []
  },
  {
   "cell_type": "code",
   "execution_count": null,
   "metadata": {},
   "outputs": [],
   "source": []
  },
  {
   "cell_type": "code",
   "execution_count": null,
   "metadata": {},
   "outputs": [],
   "source": []
  },
  {
   "cell_type": "code",
   "execution_count": null,
   "metadata": {},
   "outputs": [],
   "source": []
  },
  {
   "cell_type": "code",
   "execution_count": null,
   "metadata": {},
   "outputs": [],
   "source": []
  },
  {
   "cell_type": "markdown",
   "metadata": {},
   "source": [
    "## 4. Results and Discussion <a class=\"anchor\" id=\"4\"></a>"
   ]
  },
  {
   "cell_type": "code",
   "execution_count": null,
   "metadata": {},
   "outputs": [],
   "source": []
  },
  {
   "cell_type": "code",
   "execution_count": null,
   "metadata": {},
   "outputs": [],
   "source": []
  },
  {
   "cell_type": "code",
   "execution_count": null,
   "metadata": {},
   "outputs": [],
   "source": []
  },
  {
   "cell_type": "code",
   "execution_count": null,
   "metadata": {},
   "outputs": [],
   "source": []
  },
  {
   "cell_type": "code",
   "execution_count": null,
   "metadata": {},
   "outputs": [],
   "source": []
  },
  {
   "cell_type": "code",
   "execution_count": null,
   "metadata": {},
   "outputs": [],
   "source": []
  },
  {
   "cell_type": "code",
   "execution_count": null,
   "metadata": {},
   "outputs": [],
   "source": []
  },
  {
   "cell_type": "code",
   "execution_count": null,
   "metadata": {},
   "outputs": [],
   "source": []
  },
  {
   "cell_type": "code",
   "execution_count": null,
   "metadata": {},
   "outputs": [],
   "source": []
  },
  {
   "cell_type": "code",
   "execution_count": null,
   "metadata": {},
   "outputs": [],
   "source": []
  },
  {
   "cell_type": "code",
   "execution_count": null,
   "metadata": {},
   "outputs": [],
   "source": []
  },
  {
   "cell_type": "code",
   "execution_count": null,
   "metadata": {},
   "outputs": [],
   "source": []
  },
  {
   "cell_type": "code",
   "execution_count": null,
   "metadata": {},
   "outputs": [],
   "source": []
  },
  {
   "cell_type": "code",
   "execution_count": null,
   "metadata": {},
   "outputs": [],
   "source": []
  },
  {
   "cell_type": "code",
   "execution_count": null,
   "metadata": {},
   "outputs": [],
   "source": []
  },
  {
   "cell_type": "code",
   "execution_count": null,
   "metadata": {},
   "outputs": [],
   "source": []
  },
  {
   "cell_type": "code",
   "execution_count": null,
   "metadata": {},
   "outputs": [],
   "source": []
  },
  {
   "cell_type": "code",
   "execution_count": null,
   "metadata": {},
   "outputs": [],
   "source": []
  },
  {
   "cell_type": "code",
   "execution_count": null,
   "metadata": {},
   "outputs": [],
   "source": []
  },
  {
   "cell_type": "code",
   "execution_count": null,
   "metadata": {},
   "outputs": [],
   "source": []
  },
  {
   "cell_type": "code",
   "execution_count": null,
   "metadata": {},
   "outputs": [],
   "source": []
  },
  {
   "cell_type": "code",
   "execution_count": null,
   "metadata": {},
   "outputs": [],
   "source": []
  },
  {
   "cell_type": "code",
   "execution_count": null,
   "metadata": {},
   "outputs": [],
   "source": []
  },
  {
   "cell_type": "code",
   "execution_count": null,
   "metadata": {},
   "outputs": [],
   "source": []
  },
  {
   "cell_type": "code",
   "execution_count": null,
   "metadata": {},
   "outputs": [],
   "source": []
  },
  {
   "cell_type": "code",
   "execution_count": null,
   "metadata": {},
   "outputs": [],
   "source": []
  },
  {
   "cell_type": "code",
   "execution_count": null,
   "metadata": {},
   "outputs": [],
   "source": []
  },
  {
   "cell_type": "code",
   "execution_count": null,
   "metadata": {},
   "outputs": [],
   "source": []
  },
  {
   "cell_type": "code",
   "execution_count": null,
   "metadata": {},
   "outputs": [],
   "source": []
  },
  {
   "cell_type": "code",
   "execution_count": null,
   "metadata": {},
   "outputs": [],
   "source": []
  },
  {
   "cell_type": "code",
   "execution_count": null,
   "metadata": {},
   "outputs": [],
   "source": []
  },
  {
   "cell_type": "code",
   "execution_count": null,
   "metadata": {},
   "outputs": [],
   "source": []
  },
  {
   "cell_type": "code",
   "execution_count": null,
   "metadata": {},
   "outputs": [],
   "source": []
  },
  {
   "cell_type": "code",
   "execution_count": null,
   "metadata": {},
   "outputs": [],
   "source": []
  },
  {
   "cell_type": "code",
   "execution_count": null,
   "metadata": {},
   "outputs": [],
   "source": []
  },
  {
   "cell_type": "code",
   "execution_count": null,
   "metadata": {},
   "outputs": [],
   "source": []
  },
  {
   "cell_type": "code",
   "execution_count": null,
   "metadata": {},
   "outputs": [],
   "source": []
  },
  {
   "cell_type": "code",
   "execution_count": null,
   "metadata": {},
   "outputs": [],
   "source": []
  },
  {
   "cell_type": "code",
   "execution_count": null,
   "metadata": {},
   "outputs": [],
   "source": []
  },
  {
   "cell_type": "code",
   "execution_count": null,
   "metadata": {},
   "outputs": [],
   "source": []
  },
  {
   "cell_type": "code",
   "execution_count": null,
   "metadata": {},
   "outputs": [],
   "source": []
  },
  {
   "cell_type": "code",
   "execution_count": null,
   "metadata": {},
   "outputs": [],
   "source": []
  },
  {
   "cell_type": "code",
   "execution_count": null,
   "metadata": {},
   "outputs": [],
   "source": []
  },
  {
   "cell_type": "code",
   "execution_count": null,
   "metadata": {},
   "outputs": [],
   "source": []
  },
  {
   "cell_type": "code",
   "execution_count": null,
   "metadata": {},
   "outputs": [],
   "source": []
  },
  {
   "cell_type": "code",
   "execution_count": null,
   "metadata": {},
   "outputs": [],
   "source": []
  },
  {
   "cell_type": "code",
   "execution_count": null,
   "metadata": {},
   "outputs": [],
   "source": []
  },
  {
   "cell_type": "code",
   "execution_count": null,
   "metadata": {},
   "outputs": [],
   "source": []
  },
  {
   "cell_type": "code",
   "execution_count": null,
   "metadata": {},
   "outputs": [],
   "source": []
  },
  {
   "cell_type": "code",
   "execution_count": null,
   "metadata": {},
   "outputs": [],
   "source": []
  },
  {
   "cell_type": "code",
   "execution_count": null,
   "metadata": {},
   "outputs": [],
   "source": []
  },
  {
   "cell_type": "code",
   "execution_count": null,
   "metadata": {},
   "outputs": [],
   "source": []
  },
  {
   "cell_type": "code",
   "execution_count": null,
   "metadata": {},
   "outputs": [],
   "source": []
  },
  {
   "cell_type": "code",
   "execution_count": null,
   "metadata": {},
   "outputs": [],
   "source": []
  },
  {
   "cell_type": "code",
   "execution_count": null,
   "metadata": {},
   "outputs": [],
   "source": []
  },
  {
   "cell_type": "code",
   "execution_count": null,
   "metadata": {},
   "outputs": [],
   "source": []
  },
  {
   "cell_type": "code",
   "execution_count": null,
   "metadata": {},
   "outputs": [],
   "source": []
  },
  {
   "cell_type": "code",
   "execution_count": null,
   "metadata": {},
   "outputs": [],
   "source": []
  },
  {
   "cell_type": "code",
   "execution_count": null,
   "metadata": {},
   "outputs": [],
   "source": []
  },
  {
   "cell_type": "code",
   "execution_count": null,
   "metadata": {},
   "outputs": [],
   "source": []
  },
  {
   "cell_type": "code",
   "execution_count": null,
   "metadata": {},
   "outputs": [],
   "source": []
  },
  {
   "cell_type": "code",
   "execution_count": null,
   "metadata": {},
   "outputs": [],
   "source": []
  },
  {
   "cell_type": "code",
   "execution_count": null,
   "metadata": {},
   "outputs": [],
   "source": []
  },
  {
   "cell_type": "code",
   "execution_count": null,
   "metadata": {},
   "outputs": [],
   "source": []
  },
  {
   "cell_type": "code",
   "execution_count": null,
   "metadata": {},
   "outputs": [],
   "source": []
  },
  {
   "cell_type": "code",
   "execution_count": null,
   "metadata": {},
   "outputs": [],
   "source": []
  },
  {
   "cell_type": "code",
   "execution_count": null,
   "metadata": {},
   "outputs": [],
   "source": []
  },
  {
   "cell_type": "code",
   "execution_count": null,
   "metadata": {},
   "outputs": [],
   "source": []
  },
  {
   "cell_type": "code",
   "execution_count": null,
   "metadata": {},
   "outputs": [],
   "source": []
  },
  {
   "cell_type": "code",
   "execution_count": null,
   "metadata": {},
   "outputs": [],
   "source": []
  },
  {
   "cell_type": "code",
   "execution_count": null,
   "metadata": {},
   "outputs": [],
   "source": []
  },
  {
   "cell_type": "code",
   "execution_count": null,
   "metadata": {},
   "outputs": [],
   "source": []
  },
  {
   "cell_type": "code",
   "execution_count": null,
   "metadata": {},
   "outputs": [],
   "source": []
  },
  {
   "cell_type": "code",
   "execution_count": null,
   "metadata": {},
   "outputs": [],
   "source": []
  },
  {
   "cell_type": "code",
   "execution_count": null,
   "metadata": {},
   "outputs": [],
   "source": []
  },
  {
   "cell_type": "code",
   "execution_count": null,
   "metadata": {},
   "outputs": [],
   "source": []
  },
  {
   "cell_type": "code",
   "execution_count": null,
   "metadata": {},
   "outputs": [],
   "source": []
  },
  {
   "cell_type": "code",
   "execution_count": null,
   "metadata": {},
   "outputs": [],
   "source": [
    "_"
   ]
  }
 ],
 "metadata": {
  "kernelspec": {
   "display_name": "R",
   "language": "R",
   "name": "ir"
  },
  "language_info": {
   "codemirror_mode": "r",
   "file_extension": ".r",
   "mimetype": "text/x-r-source",
   "name": "R",
   "pygments_lexer": "r",
   "version": "3.6.1"
  }
 },
 "nbformat": 4,
 "nbformat_minor": 4
}
